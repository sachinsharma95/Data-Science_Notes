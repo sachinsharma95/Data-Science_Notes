{
 "cells": [
  {
   "cell_type": "code",
   "execution_count": 72,
   "id": "18564699-9102-4979-a8ee-ade088f6d40f",
   "metadata": {},
   "outputs": [
    {
     "name": "stdout",
     "output_type": "stream",
     "text": [
      "[0, 1, 2, 3, 4, 5]\n"
     ]
    }
   ],
   "source": [
    "i =0;\n",
    "l= []\n",
    "while i<=5:\n",
    "    # print(i*i)\n",
    "    # why??\n",
    "    l.append(i)\n",
    "  \n",
    "    i= i+1\n",
    "print(l)"
   ]
  },
  {
   "cell_type": "code",
   "execution_count": 24,
   "id": "17308910-f4bb-4739-8d32-8581695dcb0e",
   "metadata": {},
   "outputs": [
    {
     "data": {
      "text/plain": [
       "[0, 1, 2, 3, 4]"
      ]
     },
     "execution_count": 24,
     "metadata": {},
     "output_type": "execute_result"
    }
   ],
   "source": [
    "l =[]\n",
    "for i in range(0,5):\n",
    "        l.append(i)\n",
    "l\n",
    "# range is generstor function"
   ]
  },
  {
   "cell_type": "code",
   "execution_count": 48,
   "id": "8993ce27-c905-4080-9d48-9011cb2187f6",
   "metadata": {},
   "outputs": [
    {
     "data": {
      "text/plain": [
       "function"
      ]
     },
     "execution_count": 48,
     "metadata": {},
     "output_type": "execute_result"
    }
   ],
   "source": [
    "def fib(n):\n",
    "    a=0\n",
    "    b=1\n",
    "    for i in range(n):\n",
    "        yield a\n",
    "        a=b\n",
    "        b=a+b\n",
    "        \n",
    "# now after uisng the yeild function fin become generator\n",
    "#now instead of using the return we are using the yield becoz yeild after give value back to the  function \n",
    "# and then become in conmtinuatiiom as well as memeory save for faster execution\n",
    "type(fib)"
   ]
  },
  {
   "cell_type": "code",
   "execution_count": 33,
   "id": "83545a72-9168-4365-924a-0ba1fd86a1d8",
   "metadata": {},
   "outputs": [
    {
     "data": {
      "text/plain": [
       "<generator object fib at 0x7f839a53df50>"
      ]
     },
     "execution_count": 33,
     "metadata": {},
     "output_type": "execute_result"
    }
   ],
   "source": [
    "fib(5)"
   ]
  },
  {
   "cell_type": "code",
   "execution_count": 53,
   "id": "f138cf66-60fe-4640-950b-47113e49f42d",
   "metadata": {},
   "outputs": [
    {
     "name": "stdout",
     "output_type": "stream",
     "text": [
      "0\n",
      "1\n",
      "2\n",
      "4\n",
      "8\n",
      "16\n",
      "32\n",
      "64\n",
      "128\n",
      "256\n"
     ]
    },
    {
     "data": {
      "text/plain": [
       "generator"
      ]
     },
     "execution_count": 53,
     "metadata": {},
     "output_type": "execute_result"
    }
   ],
   "source": [
    "# now print the value from the generator function \n",
    "for i in fib(10):\n",
    "    print(i)\n",
    "# create object for the fib then check the type \n",
    "fibbo = fib(2)\n",
    "type(fibbo)\n",
    "\n",
    "# now hence the output is generator \n"
   ]
  },
  {
   "cell_type": "code",
   "execution_count": 40,
   "id": "85645418-a684-4346-8c49-7c925956b185",
   "metadata": {},
   "outputs": [
    {
     "data": {
      "text/plain": [
       "<generator object sum at 0x7f839a53e810>"
      ]
     },
     "execution_count": 40,
     "metadata": {},
     "output_type": "execute_result"
    }
   ],
   "source": [
    "# example for generator function \n",
    "def sum(a,b):\n",
    "    for i in range(10):\n",
    "        yield a+b\n",
    "        \n",
    "sum(4,5)"
   ]
  },
  {
   "cell_type": "code",
   "execution_count": 43,
   "id": "7da341a3-a7be-4230-93ce-0105ad83c547",
   "metadata": {},
   "outputs": [
    {
     "name": "stdout",
     "output_type": "stream",
     "text": [
      "9\n",
      "9\n",
      "9\n",
      "9\n",
      "9\n",
      "9\n",
      "9\n",
      "9\n",
      "9\n",
      "9\n",
      "[81, 81, 81, 81, 81, 81, 81, 81, 81, 81]\n"
     ]
    }
   ],
   "source": [
    "l =[] \n",
    "for i in sum(4,5):\n",
    "    l.append(i**2)\n",
    "    \n",
    "    print(i)\n",
    "print(l)"
   ]
  },
  {
   "cell_type": "code",
   "execution_count": 90,
   "id": "69174167-f0a8-42e6-b0d6-60be008a414f",
   "metadata": {},
   "outputs": [
    {
     "ename": "TypeError",
     "evalue": "'generator' object is not callable",
     "output_type": "error",
     "traceback": [
      "\u001b[0;31m---------------------------------------------------------------------------\u001b[0m",
      "\u001b[0;31mTypeError\u001b[0m                                 Traceback (most recent call last)",
      "Cell \u001b[0;32mIn[90], line 8\u001b[0m\n\u001b[1;32m      5\u001b[0m         \u001b[38;5;28;01myield\u001b[39;00m b\n\u001b[1;32m      7\u001b[0m \u001b[38;5;66;03m# iter=mx(5,8)\u001b[39;00m\n\u001b[0;32m----> 8\u001b[0m itr \u001b[38;5;241m=\u001b[39m \u001b[38;5;28;43miter\u001b[39;49m\u001b[43m(\u001b[49m\u001b[43mmx\u001b[49m\u001b[43m(\u001b[49m\u001b[38;5;241;43m5\u001b[39;49m\u001b[43m,\u001b[49m\u001b[38;5;241;43m8\u001b[39;49m\u001b[43m)\u001b[49m\u001b[43m)\u001b[49m\n\u001b[1;32m      9\u001b[0m \u001b[38;5;66;03m# print(itr.next())\u001b[39;00m\n\u001b[1;32m     10\u001b[0m \n\u001b[1;32m     11\u001b[0m \u001b[38;5;66;03m# again showing the type function \u001b[39;00m\n\u001b[0;32m   (...)\u001b[0m\n\u001b[1;32m     14\u001b[0m \u001b[38;5;66;03m# type(mx)\u001b[39;00m\n\u001b[1;32m     15\u001b[0m \u001b[38;5;66;03m# bu when we create the object of the function then it show the type of the function is generator \u001b[39;00m\n",
      "\u001b[0;31mTypeError\u001b[0m: 'generator' object is not callable"
     ]
    }
   ],
   "source": [
    "def mx(a,b):\n",
    "    if(a>b):\n",
    "        yield a\n",
    "    else:\n",
    "        yield b\n",
    "       \n",
    "    \n",
    "    \n",
    "# iter=mx(5,8)\n",
    "itr = iter(mx(5,8))\n",
    "# print(itr.next())\n",
    "\n",
    "# again showing the type function \n",
    "\n",
    "\n",
    "# type(mx)\n",
    "# bu when we create the object of the function then it show the type of the function is generator \n"
   ]
  },
  {
   "cell_type": "code",
   "execution_count": 86,
   "id": "f14c8871-8468-46b8-9c51-b4baa60558b7",
   "metadata": {},
   "outputs": [
    {
     "name": "stdout",
     "output_type": "stream",
     "text": [
      "7\n"
     ]
    }
   ],
   "source": [
    " for i in mx(7,5):\n",
    "         print(i)"
   ]
  },
  {
   "cell_type": "code",
   "execution_count": 3,
   "id": "802dafd3-c238-4fbd-94cd-c9b51d44ba6b",
   "metadata": {},
   "outputs": [],
   "source": [
    "\n",
    "def clac(n):\n",
    "    counter =0\n",
    "    while counter< n:\n",
    "        yield counter\n",
    "        counter = counter+1\n",
    "        \n"
   ]
  },
  {
   "cell_type": "code",
   "execution_count": 8,
   "id": "f9d07a07-1998-4b0e-850b-df7a9a44f39c",
   "metadata": {},
   "outputs": [
    {
     "name": "stdout",
     "output_type": "stream",
     "text": [
      "0\n",
      "1\n",
      "2\n",
      "3\n",
      "4\n",
      "<class 'generator'>\n"
     ]
    }
   ],
   "source": [
    "for i in clac(5):\n",
    "    print(i)\n",
    "    \n",
    "    \n",
    "\n",
    "t = clac(5)\n",
    "    \n",
    "print(type(t))"
   ]
  },
  {
   "cell_type": "code",
   "execution_count": 25,
   "id": "9b1578c2-5754-4478-9365-51eec1a63974",
   "metadata": {},
   "outputs": [
    {
     "data": {
      "text/plain": [
       "'S'"
      ]
     },
     "execution_count": 25,
     "metadata": {},
     "output_type": "execute_result"
    }
   ],
   "source": [
    "s= \"Sachin\"\n",
    "itr = iter(s)\n",
    "next(itr)\n",
    "    "
   ]
  },
  {
   "cell_type": "code",
   "execution_count": 26,
   "id": "724035cb-5a09-4a94-a667-794760cdfb0e",
   "metadata": {},
   "outputs": [
    {
     "data": {
      "text/plain": [
       "'a'"
      ]
     },
     "execution_count": 26,
     "metadata": {},
     "output_type": "execute_result"
    }
   ],
   "source": [
    "next(itr)\n"
   ]
  },
  {
   "cell_type": "code",
   "execution_count": 27,
   "id": "ce510234-8df6-4351-98e3-da732a1a765b",
   "metadata": {},
   "outputs": [
    {
     "data": {
      "text/plain": [
       "'c'"
      ]
     },
     "execution_count": 27,
     "metadata": {},
     "output_type": "execute_result"
    }
   ],
   "source": [
    "next(itr)"
   ]
  },
  {
   "cell_type": "code",
   "execution_count": 28,
   "id": "32f13bfe-7240-43ac-b2d5-6e00c1a3ee2e",
   "metadata": {},
   "outputs": [
    {
     "data": {
      "text/plain": [
       "'h'"
      ]
     },
     "execution_count": 28,
     "metadata": {},
     "output_type": "execute_result"
    }
   ],
   "source": [
    "next(itr)"
   ]
  },
  {
   "cell_type": "code",
   "execution_count": 29,
   "id": "13fdd0ae-6996-4c3c-b050-f6c81b21bc8d",
   "metadata": {},
   "outputs": [
    {
     "data": {
      "text/plain": [
       "'i'"
      ]
     },
     "execution_count": 29,
     "metadata": {},
     "output_type": "execute_result"
    }
   ],
   "source": [
    "next(itr)\n"
   ]
  },
  {
   "cell_type": "code",
   "execution_count": 30,
   "id": "f19c7f1e-ed68-4d32-915f-f70ab6f75fa8",
   "metadata": {},
   "outputs": [
    {
     "data": {
      "text/plain": [
       "'n'"
      ]
     },
     "execution_count": 30,
     "metadata": {},
     "output_type": "execute_result"
    }
   ],
   "source": [
    "next(itr)\n"
   ]
  },
  {
   "cell_type": "code",
   "execution_count": 31,
   "id": "2c917280-0216-4c89-9a14-6125ac7958a4",
   "metadata": {},
   "outputs": [
    {
     "ename": "StopIteration",
     "evalue": "",
     "output_type": "error",
     "traceback": [
      "\u001b[0;31m---------------------------------------------------------------------------\u001b[0m",
      "\u001b[0;31mStopIteration\u001b[0m                             Traceback (most recent call last)",
      "Cell \u001b[0;32mIn[31], line 1\u001b[0m\n\u001b[0;32m----> 1\u001b[0m \u001b[38;5;28;43mnext\u001b[39;49m\u001b[43m(\u001b[49m\u001b[43mitr\u001b[49m\u001b[43m)\u001b[49m\n",
      "\u001b[0;31mStopIteration\u001b[0m: "
     ]
    }
   ],
   "source": [
    "next(itr)\n"
   ]
  },
  {
   "cell_type": "code",
   "execution_count": null,
   "id": "c548241c-e167-4f20-a9ea-c194d596389d",
   "metadata": {},
   "outputs": [],
   "source": []
  },
  {
   "cell_type": "code",
   "execution_count": 33,
   "id": "93d2e03f-3d55-4788-9570-f3a36237fc16",
   "metadata": {},
   "outputs": [],
   "source": [
    "# lambda\n",
    "# lambda is a single line function and its also known as anoynmlous function\n"
   ]
  },
  {
   "cell_type": "code",
   "execution_count": 38,
   "id": "8ec407ce-a791-4945-ba9f-b422e0e3c384",
   "metadata": {},
   "outputs": [
    {
     "data": {
      "text/plain": [
       "10"
      ]
     },
     "execution_count": 38,
     "metadata": {},
     "output_type": "execute_result"
    }
   ],
   "source": [
    "def test(a,b):\n",
    "    return a*b\n",
    "\n",
    "\n",
    "test(2,5)"
   ]
  },
  {
   "cell_type": "code",
   "execution_count": 37,
   "id": "ed01497f-bea5-4852-9c1b-dbeec1198117",
   "metadata": {},
   "outputs": [
    {
     "data": {
      "text/plain": [
       "<function __main__.<lambda>(x, y)>"
      ]
     },
     "execution_count": 37,
     "metadata": {},
     "output_type": "execute_result"
    }
   ],
   "source": [
    "\n",
    "lambda x,y : x*y"
   ]
  },
  {
   "cell_type": "code",
   "execution_count": 39,
   "id": "4488ca5e-a167-4633-9db1-2aaf96a4e826",
   "metadata": {},
   "outputs": [
    {
     "data": {
      "text/plain": [
       "1.0"
      ]
     },
     "execution_count": 39,
     "metadata": {},
     "output_type": "execute_result"
    }
   ],
   "source": [
    "# for print it take it in a vraible \n",
    "p = lambda x,y:x*y\n",
    "\n",
    "p(2,.5)"
   ]
  },
  {
   "cell_type": "code",
   "execution_count": 44,
   "id": "020afa8b-32d1-43c0-b806-aab84c1237f4",
   "metadata": {},
   "outputs": [
    {
     "name": "stdin",
     "output_type": "stream",
     "text": [
      "Enter the value of the temp in C 25\n"
     ]
    },
    {
     "name": "stdout",
     "output_type": "stream",
     "text": [
      "The value of the temp in fahreinheight is : 77.0\n"
     ]
    }
   ],
   "source": [
    "# calcius to fahrensheight\n",
    "c_to_f = lambda c : (9/5)*c+32\n",
    "\n",
    "\n",
    "a = int(input(\"Enter the value of the temp in C\"))\n",
    "c_to_f(a)\n",
    "\n",
    "print(\"The value of the temp in fahreinheight is :\" ,c_to_f(a))\n",
    "\n",
    "# or simply call the function \n"
   ]
  },
  {
   "cell_type": "code",
   "execution_count": 45,
   "id": "ea2d0eb9-a97f-4876-8647-8bc8e53a8a38",
   "metadata": {},
   "outputs": [
    {
     "data": {
      "text/plain": [
       "13"
      ]
     },
     "execution_count": 45,
     "metadata": {},
     "output_type": "execute_result"
    }
   ],
   "source": [
    "# use of the lambda function \n",
    "s= \"Sachin Sharma\"\n",
    "length = lambda s: len(s)\n",
    "length(s)"
   ]
  },
  {
   "cell_type": "code",
   "execution_count": 4,
   "id": "df9b9280-5aba-4ef4-b8f2-cefdf86e4b66",
   "metadata": {},
   "outputs": [
    {
     "data": {
      "text/plain": [
       "89"
      ]
     },
     "execution_count": 4,
     "metadata": {},
     "output_type": "execute_result"
    }
   ],
   "source": [
    "mx= lambda a,b : a if a>b  else b\n",
    "mx(56,89)"
   ]
  },
  {
   "cell_type": "code",
   "execution_count": 7,
   "id": "e3c822e8-5ace-4cdc-9ce0-80794e29f211",
   "metadata": {},
   "outputs": [
    {
     "ename": "SyntaxError",
     "evalue": "invalid syntax (907280192.py, line 3)",
     "output_type": "error",
     "traceback": [
      "\u001b[0;36m  Cell \u001b[0;32mIn[7], line 3\u001b[0;36m\u001b[0m\n\u001b[0;31m    mx = lambda l : for i in l: l1.append(i ) if i%2!=0 else l\u001b[0m\n\u001b[0m                    ^\u001b[0m\n\u001b[0;31mSyntaxError\u001b[0m\u001b[0;31m:\u001b[0m invalid syntax\n"
     ]
    }
   ],
   "source": [
    "l = [2,5,1,7,8,10]\n",
    "\n",
    "mx = lambda l : for i in l: l1.append(i ) if i%2!=0 else l\n",
    "mx(l)\n"
   ]
  },
  {
   "cell_type": "code",
   "execution_count": null,
   "id": "7a34441b-8b17-40e1-9821-c64dc4d44b4e",
   "metadata": {},
   "outputs": [],
   "source": []
  }
 ],
 "metadata": {
  "kernelspec": {
   "display_name": "Python 3 (ipykernel)",
   "language": "python",
   "name": "python3"
  },
  "language_info": {
   "codemirror_mode": {
    "name": "ipython",
    "version": 3
   },
   "file_extension": ".py",
   "mimetype": "text/x-python",
   "name": "python",
   "nbconvert_exporter": "python",
   "pygments_lexer": "ipython3",
   "version": "3.10.8"
  }
 },
 "nbformat": 4,
 "nbformat_minor": 5
}
