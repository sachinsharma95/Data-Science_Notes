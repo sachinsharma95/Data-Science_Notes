{
 "cells": [
  {
   "cell_type": "code",
   "execution_count": 1,
   "id": "0a973e32-9d50-4b30-9b60-5eb4cd05a77d",
   "metadata": {},
   "outputs": [
    {
     "data": {
      "text/plain": [
       "3"
      ]
     },
     "execution_count": 1,
     "metadata": {},
     "output_type": "execute_result"
    }
   ],
   "source": [
    "1+2"
   ]
  },
  {
   "cell_type": "code",
   "execution_count": 2,
   "id": "4df5cd14-af4a-4085-a1b3-c135853a1f13",
   "metadata": {},
   "outputs": [],
   "source": [
    "s= \"Sachin\""
   ]
  },
  {
   "cell_type": "code",
   "execution_count": 3,
   "id": "5dfe1dd7-9edc-43dd-83be-efe4008fd948",
   "metadata": {},
   "outputs": [
    {
     "data": {
      "text/plain": [
       "'Sachin'"
      ]
     },
     "execution_count": 3,
     "metadata": {},
     "output_type": "execute_result"
    }
   ],
   "source": [
    "s"
   ]
  },
  {
   "cell_type": "code",
   "execution_count": 4,
   "id": "e0a8fd72-9ecc-4eca-bd04-62acbe10e536",
   "metadata": {},
   "outputs": [
    {
     "data": {
      "text/plain": [
       "str"
      ]
     },
     "execution_count": 4,
     "metadata": {},
     "output_type": "execute_result"
    }
   ],
   "source": [
    "type(s)"
   ]
  },
  {
   "cell_type": "code",
   "execution_count": 9,
   "id": "f5a5ab3a-63bd-49a6-a4b1-2dbf77fae66d",
   "metadata": {},
   "outputs": [],
   "source": [
    "a = 5 +7j"
   ]
  },
  {
   "cell_type": "code",
   "execution_count": 10,
   "id": "1b0535c4-7fe1-4efc-a41d-7a446f69a90d",
   "metadata": {},
   "outputs": [
    {
     "data": {
      "text/plain": [
       "(5+7j)"
      ]
     },
     "execution_count": 10,
     "metadata": {},
     "output_type": "execute_result"
    }
   ],
   "source": [
    "a"
   ]
  },
  {
   "cell_type": "code",
   "execution_count": 11,
   "id": "e92c618d-028a-426d-b347-444165055315",
   "metadata": {},
   "outputs": [
    {
     "data": {
      "text/plain": [
       "complex"
      ]
     },
     "execution_count": 11,
     "metadata": {},
     "output_type": "execute_result"
    }
   ],
   "source": [
    "type(a)"
   ]
  },
  {
   "cell_type": "code",
   "execution_count": 12,
   "id": "85b439e9-4348-4904-88df-de150f584a0a",
   "metadata": {},
   "outputs": [],
   "source": [
    "s = \"this is my first string \""
   ]
  },
  {
   "cell_type": "code",
   "execution_count": 13,
   "id": "f9c45349-c11f-447c-9560-7e10dc7db84e",
   "metadata": {},
   "outputs": [
    {
     "data": {
      "text/plain": [
       "'this is my first string '"
      ]
     },
     "execution_count": 13,
     "metadata": {},
     "output_type": "execute_result"
    }
   ],
   "source": [
    "s"
   ]
  },
  {
   "cell_type": "code",
   "execution_count": 14,
   "id": "ecddab8e-8451-4109-ab01-000233bead4e",
   "metadata": {},
   "outputs": [
    {
     "data": {
      "text/plain": [
       "'This Is My First String '"
      ]
     },
     "execution_count": 14,
     "metadata": {},
     "output_type": "execute_result"
    }
   ],
   "source": [
    "s.title()"
   ]
  },
  {
   "cell_type": "code",
   "execution_count": 15,
   "id": "e9854c84-04db-44bb-a870-3a5fe366d2af",
   "metadata": {},
   "outputs": [
    {
     "data": {
      "text/plain": [
       "'This is my first string '"
      ]
     },
     "execution_count": 15,
     "metadata": {},
     "output_type": "execute_result"
    }
   ],
   "source": [
    "s.capitalize()"
   ]
  },
  {
   "cell_type": "code",
   "execution_count": 20,
   "id": "67b37e27-2ea7-4095-82a0-a28781beabe2",
   "metadata": {},
   "outputs": [
    {
     "data": {
      "text/plain": [
       "'THIS IS MY FIRST STRING '"
      ]
     },
     "execution_count": 20,
     "metadata": {},
     "output_type": "execute_result"
    }
   ],
   "source": [
    "s.upper()\n"
   ]
  },
  {
   "cell_type": "code",
   "execution_count": 19,
   "id": "ae000f07-671a-4924-b65e-1e9d681d09ce",
   "metadata": {},
   "outputs": [
    {
     "data": {
      "text/plain": [
       "'this is my first string '"
      ]
     },
     "execution_count": 19,
     "metadata": {},
     "output_type": "execute_result"
    }
   ],
   "source": [
    "s"
   ]
  },
  {
   "cell_type": "code",
   "execution_count": 23,
   "id": "54a38340-c6c9-4af5-911d-d91ffde02ea9",
   "metadata": {},
   "outputs": [
    {
     "data": {
      "text/plain": [
       "' gnirts tsrif ym si siht'"
      ]
     },
     "execution_count": 23,
     "metadata": {},
     "output_type": "execute_result"
    }
   ],
   "source": [
    "s[::-1] \n",
    "# this for reversing the string  reverse indexing "
   ]
  },
  {
   "cell_type": "code",
   "execution_count": 26,
   "id": "9283f9ed-1bfd-458a-b759-5df4e4ad2ed0",
   "metadata": {},
   "outputs": [
    {
     "data": {
      "text/plain": [
       "'is '"
      ]
     },
     "execution_count": 26,
     "metadata": {},
     "output_type": "execute_result"
    }
   ],
   "source": [
    "s[2:5]\n",
    "\n",
    "# this for the slicing the string "
   ]
  },
  {
   "cell_type": "code",
   "execution_count": 27,
   "id": "d0f331db-d70c-440f-8c0f-dcd66ed75e06",
   "metadata": {},
   "outputs": [
    {
     "data": {
      "text/plain": [
       "'i '"
      ]
     },
     "execution_count": 27,
     "metadata": {},
     "output_type": "execute_result"
    }
   ],
   "source": [
    "# slice at even position \n",
    "\n",
    "s[2:5:2]"
   ]
  },
  {
   "cell_type": "code",
   "execution_count": 29,
   "id": "2d6a55d8-7bea-486e-9fe3-520771c0c271",
   "metadata": {},
   "outputs": [
    {
     "data": {
      "text/plain": [
       "4"
      ]
     },
     "execution_count": 29,
     "metadata": {},
     "output_type": "execute_result"
    }
   ],
   "source": [
    "s.count('s')"
   ]
  },
  {
   "cell_type": "code",
   "execution_count": 30,
   "id": "dc3a5723-79f6-4386-a451-3985ced88503",
   "metadata": {},
   "outputs": [
    {
     "data": {
      "text/plain": [
       "2"
      ]
     },
     "execution_count": 30,
     "metadata": {},
     "output_type": "execute_result"
    }
   ],
   "source": [
    "s.index('i')"
   ]
  }
 ],
 "metadata": {
  "kernelspec": {
   "display_name": "Python 3 (ipykernel)",
   "language": "python",
   "name": "python3"
  },
  "language_info": {
   "codemirror_mode": {
    "name": "ipython",
    "version": 3
   },
   "file_extension": ".py",
   "mimetype": "text/x-python",
   "name": "python",
   "nbconvert_exporter": "python",
   "pygments_lexer": "ipython3",
   "version": "3.10.8"
  }
 },
 "nbformat": 4,
 "nbformat_minor": 5
}
