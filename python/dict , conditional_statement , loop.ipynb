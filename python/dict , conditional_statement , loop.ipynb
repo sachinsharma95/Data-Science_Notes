{
 "cells": [
  {
   "cell_type": "code",
   "execution_count": 2,
   "id": "c99d9cea-6a8b-4fbf-b34e-b68d16412066",
   "metadata": {},
   "outputs": [],
   "source": [
    "# dictionary ---------\n",
    "# key value pair we used in the dictionary \n",
    "# {\"Key\" : \"value\"}\n",
    "# key always unique \n",
    "# dict is always the mutable i;e we can change the value \n",
    "\n"
   ]
  },
  {
   "cell_type": "code",
   "execution_count": 4,
   "id": "3769a54d-671e-4792-853c-55ab6423c1fe",
   "metadata": {},
   "outputs": [
    {
     "data": {
      "text/plain": [
       "dict"
      ]
     },
     "execution_count": 4,
     "metadata": {},
     "output_type": "execute_result"
    }
   ],
   "source": [
    "d= {}\n",
    "type(d)"
   ]
  },
  {
   "cell_type": "code",
   "execution_count": 5,
   "id": "e9aa5d09-b372-4f85-9be2-e5b5180de505",
   "metadata": {},
   "outputs": [],
   "source": [
    "dict  = {1: \"Sachin\" , 2 :\"Sharma\",  3 :\"Akash \" , 4 :\"Adarsh \"}"
   ]
  },
  {
   "cell_type": "code",
   "execution_count": 6,
   "id": "be449f08-a20b-42d1-9843-9ebab886bdb6",
   "metadata": {},
   "outputs": [
    {
     "data": {
      "text/plain": [
       "{1: 'Sachin', 2: 'Sharma', 3: 'Akash '}"
      ]
     },
     "execution_count": 6,
     "metadata": {},
     "output_type": "execute_result"
    }
   ],
   "source": [
    "dict"
   ]
  },
  {
   "cell_type": "code",
   "execution_count": 26,
   "id": "17f8fd75-06f0-4a08-922e-4593bb958714",
   "metadata": {},
   "outputs": [
    {
     "data": {
      "text/plain": [
       "{True: 56,\n",
       " 'Name': 'Sharma',\n",
       " 'email': 'ss@gmail.com',\n",
       " 'phone': 5648,\n",
       " '@sa': 'Sac'}"
      ]
     },
     "execution_count": 26,
     "metadata": {},
     "output_type": "execute_result"
    }
   ],
   "source": [
    "d = { True : 56,\"Name\" : \"sachin\", \"email\":\"ss@gmail.com\",\"phone\":5648 ,\"@sa\" :\"Sac\" , \"Name\":\"Sharma\"}\n",
    "d"
   ]
  },
  {
   "cell_type": "code",
   "execution_count": 23,
   "id": "7ceceeaa-36f1-4943-b574-d84bcd57633c",
   "metadata": {},
   "outputs": [
    {
     "data": {
      "text/plain": [
       "'ss@gmail.com'"
      ]
     },
     "execution_count": 23,
     "metadata": {},
     "output_type": "execute_result"
    }
   ],
   "source": [
    " # to access value \n",
    "d[\"email\"]\n"
   ]
  },
  {
   "cell_type": "code",
   "execution_count": 27,
   "id": "82b7c403-c6d4-4941-b867-d6f81ab56161",
   "metadata": {},
   "outputs": [
    {
     "data": {
      "text/plain": [
       "'Sharma'"
      ]
     },
     "execution_count": 27,
     "metadata": {},
     "output_type": "execute_result"
    }
   ],
   "source": [
    "d[\"Name\"]\n",
    "# there are two key sa,e name so it overwrite and it give the last ouput "
   ]
  },
  {
   "cell_type": "code",
   "execution_count": 29,
   "id": "2b502f96-6549-44ee-8703-aa119874f936",
   "metadata": {},
   "outputs": [
    {
     "data": {
      "text/plain": [
       "{'course': ['phy', 56, 'chem', 89.02], 'company': 'TECHYSACHIN'}"
      ]
     },
     "execution_count": 29,
     "metadata": {},
     "output_type": "execute_result"
    }
   ],
   "source": [
    "d1 = {\"course\" :[\"phy\",56,\"chem\",89.02 ] ,\"company\":\"TECHYSACHIN\"}\n",
    "d1"
   ]
  },
  {
   "cell_type": "code",
   "execution_count": 31,
   "id": "67a96530-995b-4de6-b9d1-1e8fb9cad9bd",
   "metadata": {},
   "outputs": [
    {
     "data": {
      "text/plain": [
       "'chem'"
      ]
     },
     "execution_count": 31,
     "metadata": {},
     "output_type": "execute_result"
    }
   ],
   "source": [
    "# accesse chemistry\n",
    "d1['course'][2]"
   ]
  },
  {
   "cell_type": "code",
   "execution_count": 33,
   "id": "6e950d55-cd82-4a7e-87fd-49fad3946278",
   "metadata": {},
   "outputs": [
    {
     "data": {
      "text/plain": [
       "{'course': ['phy', 56, 'chem', 89.02],\n",
       " 'company': 'TECHYSACHIN',\n",
       " 'class_time': {'Sa': 56, 'pw': 89, 'Sachin': 'Sharma'}}"
      ]
     },
     "execution_count": 33,
     "metadata": {},
     "output_type": "execute_result"
    }
   ],
   "source": [
    "d1 = {\"course\" :[\"phy\",56,\"chem\",89.02 ] ,\"company\":\"TECHYSACHIN\" ,\"class_time\": {\"Sa\" :56,\"pw\":89,\"Sachin\":\"Sharma\"}}\n",
    "d1"
   ]
  },
  {
   "cell_type": "code",
   "execution_count": 34,
   "id": "f511353a-2881-481c-a402-cbd9f7f43c27",
   "metadata": {},
   "outputs": [
    {
     "data": {
      "text/plain": [
       "{'Sa': 56, 'pw': 89, 'Sachin': 'Sharma'}"
      ]
     },
     "execution_count": 34,
     "metadata": {},
     "output_type": "execute_result"
    }
   ],
   "source": [
    "# now acces 89 from class time \n",
    "d1[\"class_time\"]\n"
   ]
  },
  {
   "cell_type": "code",
   "execution_count": 35,
   "id": "95a17abd-1f02-47f1-99ac-da8878ae190d",
   "metadata": {},
   "outputs": [
    {
     "data": {
      "text/plain": [
       "89"
      ]
     },
     "execution_count": 35,
     "metadata": {},
     "output_type": "execute_result"
    }
   ],
   "source": [
    "d1[\"class_time\"][\"pw\"]\n",
    "# henced accessed"
   ]
  },
  {
   "cell_type": "code",
   "execution_count": 36,
   "id": "896dec26-bdaf-41f5-a2cf-677dadd7937b",
   "metadata": {},
   "outputs": [
    {
     "data": {
      "text/plain": [
       "{'course': ['phy', 56, 'chem', 89.02],\n",
       " 'company': 'TECHYSACHIN',\n",
       " 'class_time': {'Sa': 56, 'pw': 89, 'Sachin': 'Sharma'},\n",
       " 'Aksh': {'inuo': 'ds', 'dsa': 'python'}}"
      ]
     },
     "execution_count": 36,
     "metadata": {},
     "output_type": "execute_result"
    }
   ],
   "source": [
    "# append the value \n",
    "d1[\"Aksh\"]= {\"inuo\":\"ds\",\"dsa\":\"python\"}\n",
    "d1\n",
    "# henced added "
   ]
  },
  {
   "cell_type": "code",
   "execution_count": 37,
   "id": "e6c55ead-0188-4e65-90f2-6fd277aa8d50",
   "metadata": {},
   "outputs": [],
   "source": [
    "# for delete the use del function\n"
   ]
  },
  {
   "cell_type": "code",
   "execution_count": 40,
   "id": "086ea7ef-aa0b-4709-8361-a512ca9b8255",
   "metadata": {},
   "outputs": [
    {
     "data": {
      "text/plain": [
       "{'course': ['phy', 56, 'chem', 89.02],\n",
       " 'class_time': {'Sa': 56, 'pw': 89, 'Sachin': 'Sharma'}}"
      ]
     },
     "execution_count": 40,
     "metadata": {},
     "output_type": "execute_result"
    }
   ],
   "source": [
    "del d1[\"Aksh\"]\n",
    "d1"
   ]
  },
  {
   "cell_type": "code",
   "execution_count": 41,
   "id": "6e3780e9-6452-4010-8ae0-e1405acb4186",
   "metadata": {},
   "outputs": [
    {
     "data": {
      "text/plain": [
       "['course', 'class_time']"
      ]
     },
     "execution_count": 41,
     "metadata": {},
     "output_type": "execute_result"
    }
   ],
   "source": [
    "# convert into list \n",
    "list(d1.keys())"
   ]
  },
  {
   "cell_type": "code",
   "execution_count": 44,
   "id": "26f435b0-96ec-4427-a65d-775a6e51f9f8",
   "metadata": {},
   "outputs": [
    {
     "data": {
      "text/plain": [
       "[['phy', 56, 'chem', 89.02], {'Sa': 56, 'pw': 89, 'Sachin': 'Sharma'}]"
      ]
     },
     "execution_count": 44,
     "metadata": {},
     "output_type": "execute_result"
    }
   ],
   "source": [
    "# now convert tthe value in to the list\n",
    "list(d1.values())"
   ]
  },
  {
   "cell_type": "code",
   "execution_count": 45,
   "id": "1ea3809a-c337-4af3-9ce5-5bbf7af1eee4",
   "metadata": {},
   "outputs": [
    {
     "data": {
      "text/plain": [
       "[('course', ['phy', 56, 'chem', 89.02]),\n",
       " ('class_time', {'Sa': 56, 'pw': 89, 'Sachin': 'Sharma'})]"
      ]
     },
     "execution_count": 45,
     "metadata": {},
     "output_type": "execute_result"
    }
   ],
   "source": [
    "# now acces both keys and value \n",
    "list(d1.items())\n",
    "\n",
    "\n",
    "# anser will com list of tuples "
   ]
  },
  {
   "cell_type": "code",
   "execution_count": 57,
   "id": "b330079b-a750-4bad-bb7c-5a7c7f67aeee",
   "metadata": {},
   "outputs": [
    {
     "ename": "KeyError",
     "evalue": "'course'",
     "output_type": "error",
     "traceback": [
      "\u001b[0;31m---------------------------------------------------------------------------\u001b[0m",
      "\u001b[0;31mKeyError\u001b[0m                                  Traceback (most recent call last)",
      "Cell \u001b[0;32mIn[57], line 2\u001b[0m\n\u001b[1;32m      1\u001b[0m \u001b[38;5;66;03m# pop mei key do then it automatically remove the value \u001b[39;00m\n\u001b[0;32m----> 2\u001b[0m \u001b[43md1\u001b[49m\u001b[38;5;241;43m.\u001b[39;49m\u001b[43mpop\u001b[49m\u001b[43m(\u001b[49m\u001b[38;5;124;43m'\u001b[39;49m\u001b[38;5;124;43mcourse\u001b[39;49m\u001b[38;5;124;43m'\u001b[39;49m\u001b[43m)\u001b[49m\n\u001b[1;32m      3\u001b[0m d1\n",
      "\u001b[0;31mKeyError\u001b[0m: 'course'"
     ]
    }
   ],
   "source": [
    "# pop mei key do then it automatically remove the value \n",
    "d1.pop('course')\n",
    "d1\n"
   ]
  },
  {
   "cell_type": "code",
   "execution_count": null,
   "id": "2d855b2f-631b-47ee-8cc7-ed9a886c1513",
   "metadata": {},
   "outputs": [],
   "source": []
  },
  {
   "cell_type": "code",
   "execution_count": null,
   "id": "56392bb3-74da-47cf-bb56-f8e1285a7590",
   "metadata": {},
   "outputs": [],
   "source": []
  },
  {
   "cell_type": "code",
   "execution_count": 58,
   "id": "f2ca95f0-faa7-4b39-8f40-80d46678267e",
   "metadata": {},
   "outputs": [],
   "source": [
    "# now decision Making Statements \n",
    "# if else statements \n"
   ]
  },
  {
   "cell_type": "code",
   "execution_count": 66,
   "id": "00dc1497-7e87-4134-b0a0-9bd9116df83b",
   "metadata": {},
   "outputs": [
    {
     "name": "stdin",
     "output_type": "stream",
     "text": [
      "Enter the value of the marks  62\n"
     ]
    },
    {
     "name": "stdout",
     "output_type": "stream",
     "text": [
      "Do Hard Work ! YOU are near the Anot Batch\n"
     ]
    }
   ],
   "source": [
    "marks = int(input(\"Enter the value of the marks \"))\n",
    "if(marks>=80):\n",
    "    \n",
    "    print(\"you will be the part of Anot batch\")\n",
    "elif( marks<80 and marks >=50):\n",
    "    \n",
    "    print(\"Do Hard Work ! YOU are near the Anot Batch\" )\n",
    "    \n",
    "else :\n",
    "    print(\"your batch will  remain Same \\n Sorry ! Try Again \")\n",
    "    "
   ]
  },
  {
   "cell_type": "code",
   "execution_count": 68,
   "id": "24548a2a-8e2c-4798-95e4-25a6a21d08f4",
   "metadata": {},
   "outputs": [
    {
     "name": "stdin",
     "output_type": "stream",
     "text": [
      "enter the price 600\n"
     ]
    },
    {
     "name": "stdout",
     "output_type": "stream",
     "text": [
      "good product\n",
      "HURRY UP!\n"
     ]
    }
   ],
   "source": [
    "# nested if means if of if \n",
    "\n",
    "\n",
    "price = int(input(\"enter the price\"))\n",
    "if(price>=100):\n",
    "    print(\"good product\")\n",
    "    if(price>500):\n",
    "        print(\"HURRY UP!\")"
   ]
  },
  {
   "cell_type": "code",
   "execution_count": 69,
   "id": "9821b579-3bd3-4f6e-8476-36e84b40d32c",
   "metadata": {},
   "outputs": [
    {
     "data": {
      "text/plain": [
       "[2, 5, 8, 7, 8, 7, 8, 7, 8, 47, 8, 4, 5]"
      ]
     },
     "execution_count": 69,
     "metadata": {},
     "output_type": "execute_result"
    }
   ],
   "source": [
    "# Loop \n",
    "\n",
    "\n",
    "l = [2 , 5 ,8,7,8,7,8,7,8,47,8,4,5]\n",
    "\n",
    "l"
   ]
  },
  {
   "cell_type": "code",
   "execution_count": 70,
   "id": "b42fe546-2a71-4eae-ba60-1143741287b9",
   "metadata": {},
   "outputs": [
    {
     "name": "stdout",
     "output_type": "stream",
     "text": [
      "2\n",
      "5\n",
      "8\n",
      "7\n",
      "8\n",
      "7\n",
      "8\n",
      "7\n",
      "8\n",
      "47\n",
      "8\n",
      "4\n",
      "5\n"
     ]
    }
   ],
   "source": [
    "for i in l:\n",
    "    print(i)"
   ]
  },
  {
   "cell_type": "code",
   "execution_count": 73,
   "id": "686733a9-72b7-41f9-a727-ab10a5a25f72",
   "metadata": {},
   "outputs": [
    {
     "name": "stdout",
     "output_type": "stream",
     "text": [
      "2\n",
      "5\n",
      "8\n",
      "7\n",
      "8\n",
      "7\n",
      "8\n",
      "7\n",
      "8\n",
      "47\n",
      "8\n",
      "4\n",
      "5\n"
     ]
    },
    {
     "data": {
      "text/plain": [
       "[3, 6, 9, 8, 9, 8, 9, 8, 9, 48, 9, 5, 6]"
      ]
     },
     "execution_count": 73,
     "metadata": {},
     "output_type": "execute_result"
    }
   ],
   "source": [
    "l1=[]\n",
    "for i in l:\n",
    "    print(i)\n",
    "    l1.append(i+1)\n",
    "l1"
   ]
  },
  {
   "cell_type": "code",
   "execution_count": 81,
   "id": "b826ee17-10ea-4069-aa8a-84e366ad16f7",
   "metadata": {},
   "outputs": [
    {
     "name": "stdout",
     "output_type": "stream",
     "text": [
      "us\n",
      "aka\n",
      "pw\n",
      "pwill\n"
     ]
    },
    {
     "data": {
      "text/plain": [
       "['US', 'AKA', 'PW', 'PWILL']"
      ]
     },
     "execution_count": 81,
     "metadata": {},
     "output_type": "execute_result"
    }
   ],
   "source": [
    "# convert into the uppercase\n",
    "\n",
    "\n",
    "l = [\"us\",\"aka\",\"pw\",\"pwill\"]\n",
    "l1 = []\n",
    "for i in l:\n",
    "    print(i)\n",
    "    l1.append(i.upper())\n",
    "l1\n",
    "    "
   ]
  },
  {
   "cell_type": "code",
   "execution_count": null,
   "id": "7d680cef-2ab9-4634-b068-8d39e65c83e0",
   "metadata": {},
   "outputs": [],
   "source": [
    "l= [2,5,6,7,1,9,\"sach\",\"sharma\",\"techysachin\",\"tution\"]\n"
   ]
  },
  {
   "cell_type": "code",
   "execution_count": 85,
   "id": "15fbc830-be50-48a9-98e0-88afaed33887",
   "metadata": {},
   "outputs": [
    {
     "data": {
      "text/plain": [
       "['us', 'aka', 'pw', 'pwill']"
      ]
     },
     "execution_count": 85,
     "metadata": {},
     "output_type": "execute_result"
    }
   ],
   "source": [
    "l11 = []  #numeric \n",
    "l22 =[]  #for string \n",
    "for i in l:\n",
    "    if(type(i) == int or type(i) ==float):\n",
    "        \n",
    "        l11.append(i)\n",
    "    else :\n",
    "        l22.append(i)\n",
    "\n"
   ]
  },
  {
   "cell_type": "code",
   "execution_count": 87,
   "id": "038bf645-b582-49c3-b354-3cfd8856bd76",
   "metadata": {},
   "outputs": [
    {
     "data": {
      "text/plain": [
       "[]"
      ]
     },
     "execution_count": 87,
     "metadata": {},
     "output_type": "execute_result"
    }
   ],
   "source": [
    "l11"
   ]
  },
  {
   "cell_type": "code",
   "execution_count": null,
   "id": "31632184-c433-4607-b9b5-1b819e1340b3",
   "metadata": {},
   "outputs": [],
   "source": []
  }
 ],
 "metadata": {
  "kernelspec": {
   "display_name": "Python 3 (ipykernel)",
   "language": "python",
   "name": "python3"
  },
  "language_info": {
   "codemirror_mode": {
    "name": "ipython",
    "version": 3
   },
   "file_extension": ".py",
   "mimetype": "text/x-python",
   "name": "python",
   "nbconvert_exporter": "python",
   "pygments_lexer": "ipython3",
   "version": "3.10.8"
  }
 },
 "nbformat": 4,
 "nbformat_minor": 5
}
