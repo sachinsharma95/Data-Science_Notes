{
 "cells": [
  {
   "cell_type": "code",
   "execution_count": 1,
   "id": "e5a4cfc1-32cb-4c8e-b40b-d94ad3ff773a",
   "metadata": {},
   "outputs": [
    {
     "data": {
      "text/plain": [
       "[5, 13, 17, 5]"
      ]
     },
     "execution_count": 1,
     "metadata": {},
     "output_type": "execute_result"
    }
   ],
   "source": [
    "#addition of the two  lists \n",
    "l1 =[2,5,8,1]\n",
    "l2 =[3,8,9,4]\n",
    "list(map(lambda x,y : x+y , l1,l2))"
   ]
  },
  {
   "cell_type": "code",
   "execution_count": 4,
   "id": "522e9a9e-da26-465d-ad74-b8aebfd02aea",
   "metadata": {},
   "outputs": [
    {
     "data": {
      "text/plain": [
       "[6, 40, 72, 4]"
      ]
     },
     "execution_count": 4,
     "metadata": {},
     "output_type": "execute_result"
    }
   ],
   "source": [
    "# multiplication of the two lists\n",
    "# usong the lambda and map\n",
    "\n",
    "list(map(lambda x,y:x*y,l1,l2))"
   ]
  },
  {
   "cell_type": "code",
   "execution_count": 5,
   "id": "76033348-7a3a-4542-8196-fd9ce458111f",
   "metadata": {},
   "outputs": [
    {
     "data": {
      "text/plain": [
       "[6, 40, 72, 4]"
      ]
     },
     "execution_count": 5,
     "metadata": {},
     "output_type": "execute_result"
    }
   ],
   "source": [
    "# map have two parameter\n",
    "# 1 is function and other is input\n",
    "# see the output same as lambda function\n",
    "\n",
    "\n",
    "def mul(l1,l2):\n",
    "    return l1*l2\n",
    "\n",
    "list(map(mul,l1,l2))"
   ]
  },
  {
   "cell_type": "code",
   "execution_count": 19,
   "id": "c2950d45-a2fc-455d-a9ff-b03d5ab56192",
   "metadata": {},
   "outputs": [
    {
     "data": {
      "text/plain": [
       "['S', 'A', 'C', 'H', 'I', 'N']"
      ]
     },
     "execution_count": 19,
     "metadata": {},
     "output_type": "execute_result"
    }
   ],
   "source": [
    "s= \"sachin\"\n",
    "list(map(lambda s: s.upper(),s))\n",
    "# or \n",
    "\n"
   ]
  },
  {
   "cell_type": "code",
   "execution_count": 20,
   "id": "679d4801-7e88-4d2a-b2c6-25c1aa30ab2d",
   "metadata": {},
   "outputs": [
    {
     "data": {
      "text/plain": [
       "['S', 'A', 'C', 'H', 'I', 'N']"
      ]
     },
     "execution_count": 20,
     "metadata": {},
     "output_type": "execute_result"
    }
   ],
   "source": [
    "def upp(s):\n",
    "    return s.upper()\n",
    "\n",
    "list(map(upp,s))"
   ]
  },
  {
   "cell_type": "code",
   "execution_count": 21,
   "id": "2356137a-e209-40b9-a9b1-3585b7d3a8e9",
   "metadata": {},
   "outputs": [
    {
     "data": {
      "text/plain": [
       "[0, 1, 0, 0, 0, 0]"
      ]
     },
     "execution_count": 21,
     "metadata": {},
     "output_type": "execute_result"
    }
   ],
   "source": [
    "def upp(s):\n",
    "    return s.count('a')\n",
    "\n",
    "list(map(upp,s))"
   ]
  },
  {
   "cell_type": "code",
   "execution_count": 28,
   "id": "54c3019d-2c60-452a-bc36-f53aada87116",
   "metadata": {},
   "outputs": [
    {
     "data": {
      "text/plain": [
       "28"
      ]
     },
     "execution_count": 28,
     "metadata": {},
     "output_type": "execute_result"
    }
   ],
   "source": [
    "# reduce function \n",
    "from functools import reduce\n",
    "\n",
    "reduce(lambda x,y :x+y ,[1,8,16,1,2,0])"
   ]
  },
  {
   "cell_type": "code",
   "execution_count": 29,
   "id": "41e39556-c2f5-44a6-8627-88a1c2ddf822",
   "metadata": {},
   "outputs": [
    {
     "data": {
      "text/plain": [
       "80"
      ]
     },
     "execution_count": 29,
     "metadata": {},
     "output_type": "execute_result"
    }
   ],
   "source": [
    "l1 =[2,5,8,1] \n",
    "reduce(lambda x,y : x*y ,l1)"
   ]
  },
  {
   "cell_type": "code",
   "execution_count": 32,
   "id": "37254eca-4f7c-4e58-9f2e-be11d72a0dce",
   "metadata": {},
   "outputs": [
    {
     "data": {
      "text/plain": [
       "[5, 1]"
      ]
     },
     "execution_count": 32,
     "metadata": {},
     "output_type": "execute_result"
    }
   ],
   "source": [
    "# now filter function\n",
    "'''filter function has two  arguments\n",
    "1 is function name and other is input '''\n",
    "\n",
    "l1 =[2,5,8,1]\n",
    "list(filter (lambda x : x%2!=0 ,l1))"
   ]
  },
  {
   "cell_type": "code",
   "execution_count": 33,
   "id": "bacafc48-9724-47a7-82ae-9cd6b7cb027f",
   "metadata": {},
   "outputs": [
    {
     "data": {
      "text/plain": [
       "[-8, -2, -4, -1]"
      ]
     },
     "execution_count": 33,
     "metadata": {},
     "output_type": "execute_result"
    }
   ],
   "source": [
    "l1 =[2,5,8,-8,-2,-4,-1,1]\n",
    "list(filter(lambda x :x<0 ,l1))"
   ]
  },
  {
   "cell_type": "code",
   "execution_count": 40,
   "id": "fb3a55cc-052b-4abb-b1e3-dd878cbaecb0",
   "metadata": {},
   "outputs": [
    {
     "data": {
      "text/plain": [
       "['sachin',\n",
       " 'sharma',\n",
       " 'akash',\n",
       " 'maurya',\n",
       " 'Aka',\n",
       " 'p',\n",
       " 'Rudra',\n",
       " 'mohit',\n",
       " 'js',\n",
       " 'ps']"
      ]
     },
     "execution_count": 40,
     "metadata": {},
     "output_type": "execute_result"
    }
   ],
   "source": [
    "l= [\"sachin\",\"sharma\",\"akash\", \"maurya\",\"Aka\",\"p\",\"Rudra\",\"mohit\",\"js\",\"ps\"]\n",
    "list(filter(lambda x : x if len(x)<=6 else l ,l))"
   ]
  },
  {
   "cell_type": "code",
   "execution_count": 36,
   "id": "7b3c3a09-b5ee-4c5d-a686-8a0a45630501",
   "metadata": {},
   "outputs": [
    {
     "data": {
      "text/plain": [
       "['akash', 'Aka', 'p', 'Rudra', 'mohit', 'js', 'ps']"
      ]
     },
     "execution_count": 36,
     "metadata": {},
     "output_type": "execute_result"
    }
   ],
   "source": [
    "l= [\"sachin\",\"sharma\",\"akash\", \"maurya\",\"Aka\",\"p\",\"Rudra\",\"mohit\",\"js\",\"ps\"]\n",
    "list(filter(lambda x : len(x)<6,l))"
   ]
  },
  {
   "cell_type": "code",
   "execution_count": null,
   "id": "b7a9faad-c603-456b-bb96-946f2e98fd5b",
   "metadata": {},
   "outputs": [],
   "source": []
  }
 ],
 "metadata": {
  "kernelspec": {
   "display_name": "Python 3 (ipykernel)",
   "language": "python",
   "name": "python3"
  },
  "language_info": {
   "codemirror_mode": {
    "name": "ipython",
    "version": 3
   },
   "file_extension": ".py",
   "mimetype": "text/x-python",
   "name": "python",
   "nbconvert_exporter": "python",
   "pygments_lexer": "ipython3",
   "version": "3.10.8"
  }
 },
 "nbformat": 4,
 "nbformat_minor": 5
}
