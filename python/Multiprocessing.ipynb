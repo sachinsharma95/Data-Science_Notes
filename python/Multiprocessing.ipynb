{
 "cells": [
  {
   "cell_type": "code",
   "execution_count": 4,
   "id": "8a5c371d-7c47-4a0b-a4b0-f46e2ff88ff5",
   "metadata": {},
   "outputs": [
    {
     "name": "stdout",
     "output_type": "stream",
     "text": [
      "beforethe mes function another process that is name method will execulte\n",
      "Hello Sachin Arwe u learinig the multiprocessing concepti in todays class\n"
     ]
    }
   ],
   "source": [
    "import multiprocessing\n",
    "#  chile function\n",
    "def mes():\n",
    "    print(\"Hello Sachin Arwe u learinig the multiprocessing concepti in todays class\")\n",
    "\n",
    "if __name__ == '__main__':\n",
    "    m = multiprocessing.Process(target = mes)\n",
    "    print(\"beforethe mes function another process that is name method will execulte\")\n",
    "    m.start()\n",
    "    m.join()\n"
   ]
  },
  {
   "cell_type": "code",
   "execution_count": 10,
   "id": "de0a15b9-affd-4810-9107-a8dd927f33e5",
   "metadata": {},
   "outputs": [
    {
     "name": "stdout",
     "output_type": "stream",
     "text": [
      "[1, 8, 27]\n"
     ]
    }
   ],
   "source": [
    "def cube(n):\n",
    "    return n**3\n",
    "\n",
    "if __name__ == '__main__':\n",
    "    with multiprocessing.Pool(processes =3) as c:\n",
    "        \n",
    "        out =  c.map(cube,[1,2,3])\n",
    "        print(out)\n",
    "        \n",
    "    "
   ]
  },
  {
   "cell_type": "code",
   "execution_count": null,
   "id": "4244fff7-7d25-4c61-adb3-40d40d8f68d0",
   "metadata": {},
   "outputs": [],
   "source": []
  }
 ],
 "metadata": {
  "kernelspec": {
   "display_name": "Python 3 (ipykernel)",
   "language": "python",
   "name": "python3"
  },
  "language_info": {
   "codemirror_mode": {
    "name": "ipython",
    "version": 3
   },
   "file_extension": ".py",
   "mimetype": "text/x-python",
   "name": "python",
   "nbconvert_exporter": "python",
   "pygments_lexer": "ipython3",
   "version": "3.10.8"
  }
 },
 "nbformat": 4,
 "nbformat_minor": 5
}
