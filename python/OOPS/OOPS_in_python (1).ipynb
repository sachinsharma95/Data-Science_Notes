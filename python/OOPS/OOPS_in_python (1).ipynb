{
 "cells": [
  {
   "cell_type": "code",
   "execution_count": 1,
   "id": "f7ff7bea-9c58-4b52-9dda-6488de6965e0",
   "metadata": {},
   "outputs": [
    {
     "name": "stdout",
     "output_type": "stream",
     "text": [
      "<class 'int'>\n"
     ]
    }
   ],
   "source": [
    "a= 56\n",
    "print(type(a))"
   ]
  },
  {
   "cell_type": "code",
   "execution_count": 4,
   "id": "73a93a84-1937-4714-9c8e-f2241a5f3c3a",
   "metadata": {},
   "outputs": [
    {
     "data": {
      "text/plain": [
       "__main__.Name"
      ]
     },
     "execution_count": 4,
     "metadata": {},
     "output_type": "execute_result"
    }
   ],
   "source": [
    "class Name():\n",
    "    # class then <class_Name>\n",
    "    pass\n",
    "\n",
    "\n",
    "# now create a object/method and  variables\n",
    "\n",
    "a =Name()\n",
    "\n",
    "type(a)"
   ]
  },
  {
   "cell_type": "code",
   "execution_count": 19,
   "id": "4fe0939f-e9f0-4d41-8be5-6114a7367155",
   "metadata": {},
   "outputs": [
    {
     "name": "stdout",
     "output_type": "stream",
     "text": [
      "<class '__main__.pwskills'>\n"
     ]
    }
   ],
   "source": [
    "print(type(a))\n"
   ]
  },
  {
   "cell_type": "code",
   "execution_count": 28,
   "id": "275255c0-0cb4-43d8-9036-613fea0f6a0e",
   "metadata": {},
   "outputs": [
    {
     "name": "stdout",
     "output_type": "stream",
     "text": [
      "<class '__main__.sachin'>\n",
      "Welcome Sachin in your First carrier in Data science \n"
     ]
    }
   ],
   "source": [
    "class sachin :\n",
    "    def welcome_message(self):\n",
    "            #self used to bind the class \n",
    "        print(\"Welcome Sachin in your First carrier in Data science \")\n",
    "        \n",
    "    \n",
    "\n",
    "    \n",
    "\n",
    "# now  I will create a object for the class\n",
    "obj = sachin()\n",
    "# now check the type of the class by the hgep of the object \n",
    "print(type(obj))\n",
    "\n",
    "# now print the message using class object with fuction name \n",
    " \n",
    "    \n",
    "obj.welcome_message()\n",
    "\n"
   ]
  },
  {
   "cell_type": "code",
   "execution_count": 33,
   "id": "17441927-cf82-449c-9677-cc0aa28f8d5f",
   "metadata": {},
   "outputs": [
    {
     "name": "stdout",
     "output_type": "stream",
     "text": [
      "Welcome Sachin in your First carrier in Data science \n",
      "None\n"
     ]
    }
   ],
   "source": [
    "#Again create aobject for the class \n",
    "obj1 = sachin()\n",
    "# now print\n",
    "print(obj1.welcome_message())"
   ]
  },
  {
   "cell_type": "code",
   "execution_count": 50,
   "id": "f818993c-7eca-4520-9bcf-92f50cf9605b",
   "metadata": {},
   "outputs": [
    {
     "data": {
      "text/plain": [
       "'Vishal Sharma'"
      ]
     },
     "execution_count": 50,
     "metadata": {},
     "output_type": "execute_result"
    }
   ],
   "source": [
    "\"\"\"\n",
    "now we will use __init__() \"constructor \" for tsking the data from the input \n",
    "it is an default constructor \"\"\"\n",
    "\n",
    "\n",
    "class test:\n",
    "    # __init__() is a  default constructoer \n",
    "    \n",
    "    def __init__(self, name,phone,l_name):\n",
    "        self.name1 = name\n",
    "        self.phone1 = phone\n",
    "        self.l_name1 = l_name\n",
    "        \n",
    "        \n",
    "       # self used to bind data to the class\n",
    "       #class test know the self.name1 instaed of name but name is assigning value from the user\n",
    "            \n",
    "        \n",
    "        \n",
    "                \n",
    "    def return_value(self):\n",
    "        \n",
    "        return self.name1,self.phone1 ,self.l_name1\n",
    "    \n",
    "    \n",
    "    \n",
    "# now create  a method/instance of the class  and pass the data \n",
    "obj = test(\"Vishal Sharma\" ,568894,\"K_vishwanathan\")\n",
    "\n",
    "# if you want to access one by one \n",
    "\n",
    "obj.name1\n",
    "\n",
    "# use name1 not name becox name1 is used to  bind the course \n",
    "# obj.phone1\n",
    "# obj.l_name1\n",
    "\n",
    "            \n",
    "    \n"
   ]
  },
  {
   "cell_type": "code",
   "execution_count": 45,
   "id": "c56a8b29-fdb0-4c9c-9483-b0ffb18b295e",
   "metadata": {},
   "outputs": [
    {
     "data": {
      "text/plain": [
       "('Vishal Sharma', 568894, 'K_vishwanathan')"
      ]
     },
     "execution_count": 45,
     "metadata": {},
     "output_type": "execute_result"
    }
   ],
   "source": [
    "# now acces the value   < object.return_function_Name> \n",
    "\n",
    "obj.return_value()"
   ]
  },
  {
   "cell_type": "code",
   "execution_count": 51,
   "id": "cb898c47-08d6-4f7f-8cca-4a08cb3ca2ed",
   "metadata": {},
   "outputs": [],
   "source": [
    "# or intsead of using self you can use any variable name "
   ]
  },
  {
   "cell_type": "code",
   "execution_count": 32,
   "id": "96e5e101-4188-46ae-a238-7981ba0ec8a3",
   "metadata": {},
   "outputs": [],
   "source": [
    "class pwskills :\n",
    "    def __init__(sandy ,phone_number, _email_id, student_id):\n",
    "        \n",
    "        sandy.phone_number = phone_number\n",
    "        # you do not declare emaid as corect as arguments\n",
    "        sandy.email_id = _email_id\n",
    "        sandy.student_id = student_id\n",
    "        \n",
    "        def return_student_detarils(sandy):\n",
    "            return sandy.student_id, sandy.phone_number, sandy.email_id\n",
    "        \n",
    "        \n",
    "        \n",
    "a =pwskills( 56859,\"yz@gmail.com\",23)"
   ]
  },
  {
   "cell_type": "code",
   "execution_count": 17,
   "id": "be4d0fa0-cdf1-4d01-9b88-9a53e9674a90",
   "metadata": {},
   "outputs": [
    {
     "data": {
      "text/plain": [
       "'yz@gmail.com'"
      ]
     },
     "execution_count": 17,
     "metadata": {},
     "output_type": "execute_result"
    }
   ],
   "source": [
    "a.email_id"
   ]
  },
  {
   "cell_type": "code",
   "execution_count": null,
   "id": "fd63f149-300b-4f2d-84b3-2aaaa84d2725",
   "metadata": {},
   "outputs": [],
   "source": []
  }
 ],
 "metadata": {
  "kernelspec": {
   "display_name": "Python 3 (ipykernel)",
   "language": "python",
   "name": "python3"
  },
  "language_info": {
   "codemirror_mode": {
    "name": "ipython",
    "version": 3
   },
   "file_extension": ".py",
   "mimetype": "text/x-python",
   "name": "python",
   "nbconvert_exporter": "python",
   "pygments_lexer": "ipython3",
   "version": "3.10.8"
  }
 },
 "nbformat": 4,
 "nbformat_minor": 5
}
