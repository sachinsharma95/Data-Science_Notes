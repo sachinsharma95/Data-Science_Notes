{
 "cells": [
  {
   "cell_type": "code",
   "execution_count": null,
   "id": "b5ba0ade-ae7c-4504-b8e4-d1653443c4cf",
   "metadata": {},
   "outputs": [],
   "source": [
    "# All about the list "
   ]
  },
  {
   "cell_type": "code",
   "execution_count": 42,
   "id": "fd286ad3-edd0-4bbe-aa05-682ce7e0c017",
   "metadata": {},
   "outputs": [
    {
     "data": {
      "text/plain": [
       "['SAchiN ', 56, (8+7j), 56.02, 'Akash', [89, 'SACHIN  SHARMA ']]"
      ]
     },
     "execution_count": 42,
     "metadata": {},
     "output_type": "execute_result"
    }
   ],
   "source": [
    "l = [\"SAchiN \",56,8+7j ,56.02 ,\"Akash\" ,[89,\"SACHIN  SHARMA \"]]\n",
    "l"
   ]
  },
  {
   "cell_type": "code",
   "execution_count": 2,
   "id": "65948c51-9730-4478-9e81-859a91e3a91d",
   "metadata": {},
   "outputs": [
    {
     "data": {
      "text/plain": [
       "['Akash', 56.02, (8+7j), 56, 'SAchiN ']"
      ]
     },
     "execution_count": 2,
     "metadata": {},
     "output_type": "execute_result"
    }
   ],
   "source": [
    "l[::-1]"
   ]
  },
  {
   "cell_type": "code",
   "execution_count": 3,
   "id": "8218a0a7-a9ad-454f-bce1-3d8b8d5294c3",
   "metadata": {},
   "outputs": [
    {
     "data": {
      "text/plain": [
       "0"
      ]
     },
     "execution_count": 3,
     "metadata": {},
     "output_type": "execute_result"
    }
   ],
   "source": [
    "l.count('Akaksh')"
   ]
  },
  {
   "cell_type": "code",
   "execution_count": 4,
   "id": "af10ffe9-9353-4ee2-8d6e-b1ee42dc67fd",
   "metadata": {},
   "outputs": [],
   "source": [
    "l.append('Maurya')\n",
    "# it append at the last postion "
   ]
  },
  {
   "cell_type": "code",
   "execution_count": 5,
   "id": "8d11447f-4234-4c8e-a984-c8eb834cbd9e",
   "metadata": {},
   "outputs": [
    {
     "data": {
      "text/plain": [
       "['SAchiN ', 56, (8+7j), 56.02, 'Akash', 'Maurya']"
      ]
     },
     "execution_count": 5,
     "metadata": {},
     "output_type": "execute_result"
    }
   ],
   "source": [
    "l"
   ]
  },
  {
   "cell_type": "code",
   "execution_count": 6,
   "id": "d4b286ed-f1c7-4e06-a348-151258f5a4f9",
   "metadata": {},
   "outputs": [],
   "source": [
    "l.insert(0, 'Maurya')\n",
    "# it insert the value at the specific postion sytax ----> .inseert[index,value]"
   ]
  },
  {
   "cell_type": "code",
   "execution_count": 7,
   "id": "9da307bf-5127-4893-b0ec-c955e31444f7",
   "metadata": {},
   "outputs": [
    {
     "data": {
      "text/plain": [
       "['Maurya', 'SAchiN ', 56, (8+7j), 56.02, 'Akash', 'Maurya']"
      ]
     },
     "execution_count": 7,
     "metadata": {},
     "output_type": "execute_result"
    }
   ],
   "source": [
    "l"
   ]
  },
  {
   "cell_type": "code",
   "execution_count": 8,
   "id": "2b6832ee-2f78-48a3-8242-f8bbe0720ead",
   "metadata": {},
   "outputs": [],
   "source": [
    "l.remove('Akash')\n",
    "# it remove the akash "
   ]
  },
  {
   "cell_type": "code",
   "execution_count": 9,
   "id": "83ea10f1-5f14-4b66-a7db-2f0b959059d9",
   "metadata": {},
   "outputs": [
    {
     "data": {
      "text/plain": [
       "['Maurya', 'SAchiN ', 56, (8+7j), 56.02, 'Maurya']"
      ]
     },
     "execution_count": 9,
     "metadata": {},
     "output_type": "execute_result"
    }
   ],
   "source": [
    "l"
   ]
  },
  {
   "cell_type": "code",
   "execution_count": 38,
   "id": "d3b532f4-149a-459c-9498-5505868b2e17",
   "metadata": {},
   "outputs": [],
   "source": [
    "# l.pop(0)"
   ]
  },
  {
   "cell_type": "code",
   "execution_count": 10,
   "id": "4c861fc0-9ed8-4e33-89f4-7162aaae7186",
   "metadata": {},
   "outputs": [],
   "source": [
    "l.clear()\n",
    "#clear all the list"
   ]
  },
  {
   "cell_type": "code",
   "execution_count": 11,
   "id": "242a48b8-470e-48bf-a554-d3d26f2eba04",
   "metadata": {},
   "outputs": [
    {
     "data": {
      "text/plain": [
       "[]"
      ]
     },
     "execution_count": 11,
     "metadata": {},
     "output_type": "execute_result"
    }
   ],
   "source": [
    "l"
   ]
  },
  {
   "cell_type": "code",
   "execution_count": 17,
   "id": "2502b934-4221-4246-b2e5-598df3b3f84e",
   "metadata": {},
   "outputs": [],
   "source": [
    "lst = [45,2,7,1,8,0,89,56,23,14,100]"
   ]
  },
  {
   "cell_type": "code",
   "execution_count": 21,
   "id": "3f3cc19a-5835-4569-822b-d6ad458a99c1",
   "metadata": {},
   "outputs": [
    {
     "data": {
      "text/plain": [
       "[0, 1, 2, 7, 8, 14, 23, 45, 56, 89, 100]"
      ]
     },
     "execution_count": 21,
     "metadata": {},
     "output_type": "execute_result"
    }
   ],
   "source": [
    "lst.sort()\n",
    "lst\n",
    "# default  in Ascending order"
   ]
  },
  {
   "cell_type": "code",
   "execution_count": 25,
   "id": "78d3d06f-3e46-4902-a64b-fcbdb98c7b96",
   "metadata": {},
   "outputs": [
    {
     "data": {
      "text/plain": [
       "[100, 89, 56, 45, 23, 14, 8, 7, 2, 1, 0]"
      ]
     },
     "execution_count": 25,
     "metadata": {},
     "output_type": "execute_result"
    }
   ],
   "source": [
    "lst.sort(reverse = True)\n",
    "lst\n",
    "# lst sort in descending order "
   ]
  },
  {
   "cell_type": "code",
   "execution_count": 28,
   "id": "4cb3a7f1-cc84-4318-838b-33e00dce2690",
   "metadata": {},
   "outputs": [],
   "source": [
    "y = max(lst)\n",
    "# after declaring the variable to the list then we can calculate the max of the lsit "
   ]
  },
  {
   "cell_type": "code",
   "execution_count": 29,
   "id": "4bd8345e-ef7e-458d-bb3f-d0a1206041d1",
   "metadata": {},
   "outputs": [
    {
     "data": {
      "text/plain": [
       "100"
      ]
     },
     "execution_count": 29,
     "metadata": {},
     "output_type": "execute_result"
    }
   ],
   "source": [
    "y"
   ]
  },
  {
   "cell_type": "code",
   "execution_count": 30,
   "id": "4dcf788d-ac66-421d-b3e8-4efe6af3f8e4",
   "metadata": {},
   "outputs": [
    {
     "data": {
      "text/plain": [
       "0"
      ]
     },
     "execution_count": 30,
     "metadata": {},
     "output_type": "execute_result"
    }
   ],
   "source": [
    "y= min(lst)\n",
    "y"
   ]
  },
  {
   "cell_type": "code",
   "execution_count": 40,
   "id": "88114cca-cd15-42d1-bed9-51feba6c4b44",
   "metadata": {},
   "outputs": [
    {
     "data": {
      "text/plain": [
       "[100, 89, 56, 45, 23, 14, 8, 7, 2, 1, 0]"
      ]
     },
     "execution_count": 40,
     "metadata": {},
     "output_type": "execute_result"
    }
   ],
   "source": [
    "lst.copy()\n",
    "# it create the copy of the list "
   ]
  },
  {
   "cell_type": "code",
   "execution_count": null,
   "id": "3af72d51-acee-47b0-864c-9c8ef5e2e786",
   "metadata": {},
   "outputs": [],
   "source": []
  },
  {
   "cell_type": "code",
   "execution_count": null,
   "id": "a35f9f92-1051-44eb-a85e-356e98f76053",
   "metadata": {},
   "outputs": [],
   "source": []
  },
  {
   "cell_type": "code",
   "execution_count": 41,
   "id": "4cf6848e-e5ab-439b-8e57-502d7fe5469e",
   "metadata": {},
   "outputs": [],
   "source": [
    "# All About the tuple \n",
    "# tuple always in the () and immutable "
   ]
  },
  {
   "cell_type": "code",
   "execution_count": 43,
   "id": "f2ce0ae5-eada-47ae-8f84-760585f5d314",
   "metadata": {},
   "outputs": [
    {
     "data": {
      "text/plain": [
       "(100, 89, 56, 45, 23, 14, 8, 7, 2, 1, 0, [2, 8])"
      ]
     },
     "execution_count": 43,
     "metadata": {},
     "output_type": "execute_result"
    }
   ],
   "source": [
    "tpl = (100, 89, 56, 45, 23, 14, 8, 7, 2, 1, 0,[2,8])\n",
    "tpl"
   ]
  }
 ],
 "metadata": {
  "kernelspec": {
   "display_name": "Python 3 (ipykernel)",
   "language": "python",
   "name": "python3"
  },
  "language_info": {
   "codemirror_mode": {
    "name": "ipython",
    "version": 3
   },
   "file_extension": ".py",
   "mimetype": "text/x-python",
   "name": "python",
   "nbconvert_exporter": "python",
   "pygments_lexer": "ipython3",
   "version": "3.10.8"
  }
 },
 "nbformat": 4,
 "nbformat_minor": 5
}
