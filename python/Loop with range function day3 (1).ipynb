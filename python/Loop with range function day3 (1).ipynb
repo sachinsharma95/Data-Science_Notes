{
 "cells": [
  {
   "cell_type": "code",
   "execution_count": null,
   "id": "e2b72c49-0ef9-413a-97cf-1a9f493274dd",
   "metadata": {},
   "outputs": [],
   "source": [
    "# Loop in Python \n",
    "# for loop in python \n",
    "# range funcytion in python \n"
   ]
  },
  {
   "cell_type": "code",
   "execution_count": 2,
   "id": "99de32f1-f9a6-4bbf-b929-505e440492e9",
   "metadata": {},
   "outputs": [
    {
     "name": "stdout",
     "output_type": "stream",
     "text": [
      "s\n",
      "a\n",
      "c\n",
      "h\n",
      "i\n",
      "n\n"
     ]
    }
   ],
   "source": [
    "s= \"sachin\"\n",
    "for i in s:\n",
    "    \n",
    "    print(i)\n",
    "    "
   ]
  },
  {
   "cell_type": "code",
   "execution_count": 3,
   "id": "e74157f0-4049-4cf3-bf0d-2a4bdac12929",
   "metadata": {},
   "outputs": [
    {
     "name": "stdout",
     "output_type": "stream",
     "text": [
      "56 <class 'int'>\n",
      "78 <class 'int'>\n",
      "89.3 <class 'float'>\n",
      "sachin sharm  <class 'str'>\n"
     ]
    }
   ],
   "source": [
    "# now range function in python \n",
    "l = [56,78,89.3,\"sachin sharm \"]\n",
    "for i in l:\n",
    "    print(i , type(i))\n"
   ]
  },
  {
   "cell_type": "code",
   "execution_count": 5,
   "id": "bbf6661c-ce61-47fa-b694-3f67b1f94953",
   "metadata": {},
   "outputs": [
    {
     "name": "stdout",
     "output_type": "stream",
     "text": [
      "56\n",
      "78\n",
      "89.3\n",
      "sachin sharm \n"
     ]
    }
   ],
   "source": [
    "l = [56,78,89.3,\"sachin sharm \"] \n",
    "for i in l:\n",
    "    print(i)"
   ]
  },
  {
   "cell_type": "code",
   "execution_count": 6,
   "id": "06d5ccd1-cb02-4e82-9a45-9c54dc0b256b",
   "metadata": {},
   "outputs": [
    {
     "data": {
      "text/plain": [
       "range(0, 5)"
      ]
     },
     "execution_count": 6,
     "metadata": {},
     "output_type": "execute_result"
    }
   ],
   "source": [
    "range(5)\n",
    "# range is a generator function used to ganarate a number betwween"
   ]
  },
  {
   "cell_type": "code",
   "execution_count": 7,
   "id": "072b9803-558c-4173-9cb4-cea50070ab96",
   "metadata": {},
   "outputs": [
    {
     "data": {
      "text/plain": [
       "[0, 1, 2, 3, 4, 5, 6, 7, 8, 9]"
      ]
     },
     "execution_count": 7,
     "metadata": {},
     "output_type": "execute_result"
    }
   ],
   "source": [
    "# for print the number between the range in list \n",
    "list(range(10))"
   ]
  },
  {
   "cell_type": "code",
   "execution_count": 9,
   "id": "22c45829-176e-4cda-b8f6-01125c696399",
   "metadata": {},
   "outputs": [
    {
     "data": {
      "text/plain": [
       "[0, 2, 4]"
      ]
     },
     "execution_count": 9,
     "metadata": {},
     "output_type": "execute_result"
    }
   ],
   "source": [
    "# for print evene position \n",
    "list(range(0,5 ,2))"
   ]
  },
  {
   "cell_type": "code",
   "execution_count": 18,
   "id": "a66b1fc8-b209-41da-b883-002bff1f301b",
   "metadata": {},
   "outputs": [
    {
     "name": "stdout",
     "output_type": "stream",
     "text": [
      "0\n",
      "sachin sharma \n",
      "1\n",
      "akash \n",
      "2\n",
      "adarsh \n",
      "3\n",
      "sach\n"
     ]
    }
   ],
   "source": [
    "\n",
    "# now range function with the list \n",
    "l = [\"sachin sharma \",\"akash \",\"adarsh \",\"sach\"]\n",
    "for i in range(len(l)):\n",
    "    print(i)  # print the index \n",
    "    print(l[i]) # printing the value of respective index"
   ]
  },
  {
   "cell_type": "code",
   "execution_count": 25,
   "id": "922b968c-d733-4969-bad5-7e44c72dab1c",
   "metadata": {},
   "outputs": [
    {
     "name": "stdout",
     "output_type": "stream",
     "text": [
      "56\n",
      "89\n",
      "45.7\n",
      "89\n",
      "12\n",
      "122\n",
      "14\n",
      "45\n",
      "46\n",
      "0\n",
      "2\n",
      "if for loop is able to complete itself then only else will execute\n"
     ]
    }
   ],
   "source": [
    "l = [56,89,45.7,89,12,122,14,45,46,0,2]\n",
    "length = len(l)\n",
    "\n",
    "for i in l : \n",
    "    print(i)\n",
    "else :\n",
    "    print(\"if for loop is able to complete itself then only else will execute\")"
   ]
  },
  {
   "cell_type": "code",
   "execution_count": 27,
   "id": "d6ba5b6e-c2f2-4669-a73d-ca293daaf191",
   "metadata": {},
   "outputs": [
    {
     "name": "stdout",
     "output_type": "stream",
     "text": [
      "56\n"
     ]
    }
   ],
   "source": [
    "for i  in l:\n",
    "    print(i)\n",
    "    break"
   ]
  },
  {
   "cell_type": "code",
   "execution_count": 31,
   "id": "04e71200-a6be-4351-a09a-7a67e8d17d12",
   "metadata": {},
   "outputs": [
    {
     "name": "stdout",
     "output_type": "stream",
     "text": [
      "112-178-91.4-178-24-244-28-90-92-0-4-"
     ]
    }
   ],
   "source": [
    "for i  in l:\n",
    "    print(i*2 ,  end = \"-\")\n",
    "    \n",
    "    \n",
    "    "
   ]
  },
  {
   "cell_type": "code",
   "execution_count": 39,
   "id": "a65599a7-a530-42b5-a947-8c3afd55a073",
   "metadata": {},
   "outputs": [
    {
     "name": "stdout",
     "output_type": "stream",
     "text": [
      "11 10 9 8 7 6 5 4 3 2 1 0 "
     ]
    }
   ],
   "source": [
    "for i in range(len(l), -1 ,-1):\n",
    "    \n",
    "    print(i , end = \" \")"
   ]
  },
  {
   "cell_type": "code",
   "execution_count": 41,
   "id": "254fe043-d728-4fad-932f-25950586896d",
   "metadata": {},
   "outputs": [
    {
     "name": "stdout",
     "output_type": "stream",
     "text": [
      "2\n",
      "0\n",
      "46\n",
      "45\n",
      "14\n",
      "122\n",
      "12\n",
      "89\n",
      "45.7\n",
      "89\n",
      "56\n"
     ]
    }
   ],
   "source": [
    "# eveen position\n",
    "for i in range(len(l)-1, -1 ,-1):\n",
    "    \n",
    "    print(l[i])"
   ]
  },
  {
   "cell_type": "code",
   "execution_count": 45,
   "id": "3cc39205-0b44-4269-a43c-0644ee9e55ad",
   "metadata": {},
   "outputs": [
    {
     "name": "stdout",
     "output_type": "stream",
     "text": [
      "ppl\n",
      "akash\n",
      "sharma\n",
      "sachin\n"
     ]
    }
   ],
   "source": [
    " #reverse postion \n",
    "    lst = [\"sachin\" , \"sharma\",\"akash\",\"ppl\"]\n",
    "for i in range(len(lst)-1,-1,-1):\n",
    "    print(lst[i])"
   ]
  },
  {
   "cell_type": "code",
   "execution_count": 50,
   "id": "e8bf9940-65a6-419f-848a-6ee808e8ab7c",
   "metadata": {},
   "outputs": [
    {
     "name": "stdout",
     "output_type": "stream",
     "text": [
      "\n"
     ]
    },
    {
     "data": {
      "text/plain": [
       "dict_values(['sachin', 'ss@gmail', ['ML', 'DL', 'Phy', 'Chem', 'Notc']])"
      ]
     },
     "execution_count": 50,
     "metadata": {},
     "output_type": "execute_result"
    }
   ],
   "source": [
    "dict = {\"name\":\"sachin\" ,\"email\":\"ss@gmail\" , \"courses\":[\"ML\",\"DL\",\"Phy\",\"Chem\",\"Notc\"]}\n",
    "#for print the keys of the dictionary \n",
    "# dict.keys()\n",
    "print(\"\\r\")\n",
    "#for print the value of the respective keys \n",
    "dict.values()"
   ]
  },
  {
   "cell_type": "code",
   "execution_count": 51,
   "id": "e486aa2a-2695-4961-9fd8-9ee15a342ea3",
   "metadata": {},
   "outputs": [
    {
     "name": "stdout",
     "output_type": "stream",
     "text": [
      "name\n",
      "email\n",
      "courses\n"
     ]
    }
   ],
   "source": [
    "for i in dict.keys():\n",
    "    print(i)"
   ]
  },
  {
   "cell_type": "code",
   "execution_count": 52,
   "id": "4ccdafd7-a7f7-4039-94c5-b81757084c39",
   "metadata": {},
   "outputs": [
    {
     "name": "stdout",
     "output_type": "stream",
     "text": [
      "sachin\n",
      "ss@gmail\n",
      "['ML', 'DL', 'Phy', 'Chem', 'Notc']\n"
     ]
    }
   ],
   "source": [
    "for i in dict.values():\n",
    "    print(i)"
   ]
  },
  {
   "cell_type": "code",
   "execution_count": 53,
   "id": "e9bcf599-3fb1-4ad1-8cae-254e7b3b271e",
   "metadata": {},
   "outputs": [
    {
     "ename": "TypeError",
     "evalue": "'dict_keys' object cannot be interpreted as an integer",
     "output_type": "error",
     "traceback": [
      "\u001b[0;31m---------------------------------------------------------------------------\u001b[0m",
      "\u001b[0;31mTypeError\u001b[0m                                 Traceback (most recent call last)",
      "Cell \u001b[0;32mIn[53], line 1\u001b[0m\n\u001b[0;32m----> 1\u001b[0m \u001b[38;5;28;01mfor\u001b[39;00m i \u001b[38;5;129;01min\u001b[39;00m \u001b[38;5;28;43mrange\u001b[39;49m\u001b[43m(\u001b[49m\u001b[38;5;28;43mdict\u001b[39;49m\u001b[38;5;241;43m.\u001b[39;49m\u001b[43mkeys\u001b[49m\u001b[43m(\u001b[49m\u001b[43m)\u001b[49m\u001b[43m)\u001b[49m:\n\u001b[1;32m      2\u001b[0m     \u001b[38;5;28mprint\u001b[39m(i)\n",
      "\u001b[0;31mTypeError\u001b[0m: 'dict_keys' object cannot be interpreted as an integer"
     ]
    }
   ],
   "source": [
    "for i in range(dict.keys()):\n",
    "    print(i)"
   ]
  },
  {
   "cell_type": "code",
   "execution_count": 54,
   "id": "4efb74fa-9fb0-46c3-8049-546a90839d0e",
   "metadata": {},
   "outputs": [
    {
     "name": "stdout",
     "output_type": "stream",
     "text": [
      "['ML', 'DL', 'Phy', 'Chem', 'Notc']\n",
      "['ML', 'DL', 'Phy', 'Chem', 'Notc']\n",
      "['ML', 'DL', 'Phy', 'Chem', 'Notc']\n"
     ]
    }
   ],
   "source": [
    "for i in dict.keys():\n",
    "    print(dict['courses'])"
   ]
  },
  {
   "cell_type": "code",
   "execution_count": 55,
   "id": "d1b5d890-f5c3-4e26-8975-aa199889f246",
   "metadata": {},
   "outputs": [
    {
     "data": {
      "text/plain": [
       "80"
      ]
     },
     "execution_count": 55,
     "metadata": {},
     "output_type": "execute_result"
    }
   ],
   "source": [
    "l = [1,2,4,56,8,9]\n",
    "sum(l)"
   ]
  },
  {
   "cell_type": "code",
   "execution_count": 61,
   "id": "97e94db0-3845-45b3-a7f8-406d537a1e7c",
   "metadata": {},
   "outputs": [
    {
     "name": "stdout",
     "output_type": "stream",
     "text": [
      "1\n",
      "3\n",
      "7\n",
      "63\n",
      "71\n",
      "80\n",
      "\n",
      "80\n"
     ]
    }
   ],
   "source": [
    "# or the second ways to calculate the sum \n",
    "result = 0;\n",
    "for i in l:\n",
    "    result= result+i\n",
    "    # printing result = result+i at each stages \n",
    "    print(result)\n",
    "    \n",
    "print(\"\\r\") #for new line \n",
    "    \n",
    "#ek sath sum \n",
    "print(result)"
   ]
  },
  {
   "cell_type": "code",
   "execution_count": 62,
   "id": "4cad6e60-858d-462d-9e9e-cb22f0d6f2dd",
   "metadata": {},
   "outputs": [
    {
     "name": "stdout",
     "output_type": "stream",
     "text": [
      "('name', 'sachin')\n",
      "('email', 'ss@gmail')\n",
      "('courses', ['ML', 'DL', 'Phy', 'Chem', 'Notc'])\n"
     ]
    }
   ],
   "source": [
    "# to print the keys and values together \n",
    "for i in dict.items():\n",
    "    print(i)"
   ]
  },
  {
   "cell_type": "code",
   "execution_count": null,
   "id": "1c55b388-730f-48d1-9355-03c7a5e0a14f",
   "metadata": {},
   "outputs": [],
   "source": []
  }
 ],
 "metadata": {
  "kernelspec": {
   "display_name": "Python 3 (ipykernel)",
   "language": "python",
   "name": "python3"
  },
  "language_info": {
   "codemirror_mode": {
    "name": "ipython",
    "version": 3
   },
   "file_extension": ".py",
   "mimetype": "text/x-python",
   "name": "python",
   "nbconvert_exporter": "python",
   "pygments_lexer": "ipython3",
   "version": "3.10.8"
  }
 },
 "nbformat": 4,
 "nbformat_minor": 5
}
